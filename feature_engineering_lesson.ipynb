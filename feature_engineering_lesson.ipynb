{
 "cells": [
  {
   "cell_type": "markdown",
   "id": "7dba2493-6545-43d1-85c0-bd71aa194b43",
   "metadata": {},
   "source": [
    "# Feature Engineering\n",
    "\n",
    "In this lesson we discuss some methods for *automated* feature engineering, specifically feature selection.\n",
    "\n",
    "While these methods can produce useful results, they are but a single piece of of the feature engineering puzzle."
   ]
  },
  {
   "cell_type": "markdown",
   "id": "6f0c87db-5c04-4b35-ae9d-6d754f076f83",
   "metadata": {},
   "source": [
    "## Setup"
   ]
  },
  {
   "cell_type": "code",
   "execution_count": 3,
   "id": "5b58cab4-ca6d-4590-8590-42b728149ed2",
   "metadata": {},
   "outputs": [],
   "source": [
    "import pandas as pd\n",
    "import numpy as np\n",
    "import pydataset\n",
    "\n",
    "from sklearn.feature_selection import SelectKBest, f_regression, RFE\n",
    "from sklearn.linear_model import LinearRegression\n",
    "from sklearn.model_selection import train_test_split\n",
    "from sklearn.preprocessing import StandardScaler\n",
    "\n",
    "tips = pydataset.data('tips')\n",
    "tips['smoker'] = (tips.smoker == 'Yes').astype(int)\n",
    "tips['dinner'] = (tips.time == 'Dinner').astype(int)"
   ]
  },
  {
   "cell_type": "code",
   "execution_count": 4,
   "id": "1a68bb10-3c4c-434b-8814-57f93ea67954",
   "metadata": {},
   "outputs": [],
   "source": [
    "X = tips[['total_bill', 'size', 'smoker', 'dinner']]\n",
    "y = tips.tip\n",
    "\n",
    "X_train, X_test, y_train, y_test = train_test_split(X, y, test_size=.2, random_state=123)\n",
    "scaler = StandardScaler()\n",
    "X_train_scaled = scaler.fit_transform(X_train)\n",
    "X_test_scaled = scaler.transform(X_test)"
   ]
  },
  {
   "cell_type": "markdown",
   "id": "1cec7002-744c-478f-aed3-809c838066be",
   "metadata": {},
   "source": [
    "## Select K Best\n",
    "\n",
    "- uses an f regression test\n",
    "- looks at each feature in isolation\n",
    "- is a model with that feature better than no model at all"
   ]
  },
  {
   "cell_type": "code",
   "execution_count": 9,
   "id": "ed7d21ea-3812-4072-8194-9b3c08df18c9",
   "metadata": {},
   "outputs": [
    {
     "data": {
      "text/plain": [
       "SelectKBest(k=1, score_func=<function f_regression at 0x7f8f5a843af0>)"
      ]
     },
     "execution_count": 9,
     "metadata": {},
     "output_type": "execute_result"
    }
   ],
   "source": [
    "kbest = SelectKBest(f_regression, k=1)   #k=1 selects top  features to apply on dataset \n",
    "kbest.fit(X_train_scaled, y_train)\n",
    "\n",
    "#tests to see if any coefficients are of linear value \n",
    "#looks at every feature in dataset against the target variable. is this target predicitive etc..."
   ]
  },
  {
   "cell_type": "code",
   "execution_count": 11,
   "id": "175bcb66-1cde-40cb-9ff1-389a79b59d7a",
   "metadata": {},
   "outputs": [
    {
     "data": {
      "text/plain": [
       "array([ True, False, False, False])"
      ]
     },
     "execution_count": 11,
     "metadata": {},
     "output_type": "execute_result"
    }
   ],
   "source": [
    "kbest.get_support()     #an array indicates which of the columns were chosen for k-best "
   ]
  },
  {
   "cell_type": "code",
   "execution_count": 12,
   "id": "054888d2",
   "metadata": {},
   "outputs": [
    {
     "data": {
      "text/plain": [
       "Index(['total_bill'], dtype='object')"
      ]
     },
     "execution_count": 12,
     "metadata": {},
     "output_type": "execute_result"
    }
   ],
   "source": [
    "X_train.columns[kbest.get_support()] #grabs the cols, and tells us which were our top two features/cols"
   ]
  },
  {
   "cell_type": "code",
   "execution_count": 13,
   "id": "791bc302-d1da-47fc-8418-249c6ea92518",
   "metadata": {},
   "outputs": [
    {
     "data": {
      "text/plain": [
       "(195, 1)"
      ]
     },
     "execution_count": 13,
     "metadata": {},
     "output_type": "execute_result"
    }
   ],
   "source": [
    "X_kbest = kbest.transform(X_train_scaled) #effectively drops the cols that were not chosen\n",
    "X_kbest.shape"
   ]
  },
  {
   "cell_type": "markdown",
   "id": "797d03a8-c8b6-47d0-8535-0d517c5a8230",
   "metadata": {},
   "source": [
    "<div style=\"border: 1px solid black; border-radius: 3px; background: palegreen; padding: .5em 1em;\">\n",
    "    <p style=\"font-size: 1.3em; font-weight: bold\">Mini Exercise</p>\n",
    "    <ol>\n",
    "        <li>Use <code>pydataset</code> to load the <code>swiss</code> dataset.</li>\n",
    "        <li>Split the swiss dataset into X and y, and train and test. The goal is to predict <code>Fertility</code>.</li>\n",
    "        <li>Use <code>SelectKBest</code> to find the top 3 features that predict fertility in the swiss data set.</li>\n",
    "    </ol>\n",
    "</div>"
   ]
  },
  {
   "cell_type": "code",
   "execution_count": 15,
   "id": "bbbca28a",
   "metadata": {},
   "outputs": [],
   "source": [
    "swiss_data = pydataset.data('swiss')"
   ]
  },
  {
   "cell_type": "code",
   "execution_count": 16,
   "id": "2efc219f",
   "metadata": {},
   "outputs": [],
   "source": [
    "def split_data(df):\n",
    "    '''\n",
    "    take in a DataFrame and return train, validate, and test DataFrames; stratify on species.\n",
    "    return train, validate, test DataFrames.\n",
    "    '''\n",
    "    \n",
    "    # splits df into train_validate and test using train_test_split() stratifying on species to get an even mix of each species\n",
    "    train_validate, test = train_test_split(df, test_size=.2, random_state=123, stratify=df.species)\n",
    "    \n",
    "    # splits train_validate into train and validate using train_test_split() stratifying on species to get an even mix of each species\n",
    "    train, validate = train_test_split(train_validate, \n",
    "                                       test_size=.3, \n",
    "                                       random_state=123, \n",
    "                                       stratify=train_validate.species)\n",
    "    return train, validate, test"
   ]
  },
  {
   "cell_type": "code",
   "execution_count": 17,
   "id": "92a28354",
   "metadata": {},
   "outputs": [
    {
     "name": "stdout",
     "output_type": "stream",
     "text": [
      "<class 'pandas.core.frame.DataFrame'>\n",
      "Index: 47 entries, Courtelary to Rive Gauche\n",
      "Data columns (total 6 columns):\n",
      " #   Column            Non-Null Count  Dtype  \n",
      "---  ------            --------------  -----  \n",
      " 0   Fertility         47 non-null     float64\n",
      " 1   Agriculture       47 non-null     float64\n",
      " 2   Examination       47 non-null     int64  \n",
      " 3   Education         47 non-null     int64  \n",
      " 4   Catholic          47 non-null     float64\n",
      " 5   Infant.Mortality  47 non-null     float64\n",
      "dtypes: float64(4), int64(2)\n",
      "memory usage: 2.6+ KB\n"
     ]
    }
   ],
   "source": [
    "swiss_data.info()"
   ]
  },
  {
   "cell_type": "code",
   "execution_count": 18,
   "id": "9995d204",
   "metadata": {},
   "outputs": [],
   "source": [
    "X = swiss_data[['Fertility', 'Agriculture', 'Examination', 'Education', 'Catholic', 'Infant.Mortality']]\n",
    "\n",
    "y = swiss_data['Fertility']\n",
    "\n",
    "X_train, X_test, y_train, y_test = train_test_split(X, y, test_size=.2, random_state=123)\n",
    "scaler = StandardScaler()\n",
    "X_train_scaled = scaler.fit_transform(X_train)\n",
    "X_test_scaled = scaler.transform(X_test)"
   ]
  },
  {
   "cell_type": "code",
   "execution_count": 19,
   "id": "2df3c64f",
   "metadata": {},
   "outputs": [
    {
     "data": {
      "text/plain": [
       "SelectKBest(k=3, score_func=<function f_regression at 0x7f8f5a843af0>)"
      ]
     },
     "execution_count": 19,
     "metadata": {},
     "output_type": "execute_result"
    }
   ],
   "source": [
    "kbest = SelectKBest(f_regression, k=3)   #k=1 selects top  features to apply on dataset \n",
    "kbest.fit(X_train_scaled, y_train)\n",
    "\n",
    "#tests to see if any coefficients are of linear value \n",
    "#looks at every feature in dataset against the target variable. is this target predicitive etc..."
   ]
  },
  {
   "cell_type": "code",
   "execution_count": 20,
   "id": "92bf5440",
   "metadata": {},
   "outputs": [
    {
     "data": {
      "text/plain": [
       "array([False, False,  True,  True,  True, False])"
      ]
     },
     "execution_count": 20,
     "metadata": {},
     "output_type": "execute_result"
    }
   ],
   "source": [
    "kbest.get_support()"
   ]
  },
  {
   "cell_type": "code",
   "execution_count": 21,
   "id": "7f454caf",
   "metadata": {},
   "outputs": [
    {
     "data": {
      "text/plain": [
       "Index(['Examination', 'Education', 'Catholic'], dtype='object')"
      ]
     },
     "execution_count": 21,
     "metadata": {},
     "output_type": "execute_result"
    }
   ],
   "source": [
    "#get support for columns provided \n",
    "X_train.columns[kbest.get_support()]"
   ]
  },
  {
   "cell_type": "code",
   "execution_count": 22,
   "id": "8feaf1c1",
   "metadata": {},
   "outputs": [
    {
     "data": {
      "text/plain": [
       "(37, 3)"
      ]
     },
     "execution_count": 22,
     "metadata": {},
     "output_type": "execute_result"
    }
   ],
   "source": [
    "X_kbest = kbest.transform(X_train_scaled) #effectively drops the cols that were not chosen\n",
    "X_kbest.shape\n",
    "\n",
    "#Top three features chose Examination, Education, Catholic "
   ]
  },
  {
   "cell_type": "markdown",
   "id": "70f3bcf1-35a0-44e5-8637-f2d538858cee",
   "metadata": {},
   "source": [
    "## Recursive Feature Elimination\n",
    "\n",
    "- Fits a model and eliminates the worst performing features\n",
    "- More computationally expensive\n",
    "- Looks at all the features together"
   ]
  },
  {
   "cell_type": "code",
   "execution_count": 26,
   "id": "d434412c",
   "metadata": {},
   "outputs": [],
   "source": [
    "\n",
    "X = tips[['total_bill', 'size', 'smoker', 'dinner']]\n",
    "y = tips.tip\n",
    "\n",
    "X_train, X_test, y_train, y_test = train_test_split(X, y, test_size=.2, random_state=123)\n",
    "scaler = StandardScaler()\n",
    "X_train_scaled = scaler.fit_transform(X_train)\n",
    "X_test_scaled = scaler.transform(X_test)"
   ]
  },
  {
   "cell_type": "code",
   "execution_count": 27,
   "id": "a9a5375b-29ff-42b7-ab6b-cffd94edb649",
   "metadata": {},
   "outputs": [
    {
     "data": {
      "text/plain": [
       "array([ True,  True,  True, False])"
      ]
     },
     "execution_count": 27,
     "metadata": {},
     "output_type": "execute_result"
    }
   ],
   "source": [
    "#takes a look at all thefeatures together instead of looking at them in isolation in comparison to other features\n",
    "\n",
    "rfe = RFE(estimator=LinearRegression(), n_features_to_select=3)\n",
    "\n",
    "rfe.fit(X_train_scaled, y_train)\n",
    "rfe.get_support()"
   ]
  },
  {
   "cell_type": "code",
   "execution_count": 29,
   "id": "7f5e59de",
   "metadata": {},
   "outputs": [
    {
     "data": {
      "text/plain": [
       "Index(['total_bill', 'size', 'smoker'], dtype='object')"
      ]
     },
     "execution_count": 29,
     "metadata": {},
     "output_type": "execute_result"
    }
   ],
   "source": [
    "X_train.columns[rfe.get_support()]"
   ]
  },
  {
   "cell_type": "code",
   "execution_count": 30,
   "id": "b8914b8e-c85d-4b76-917a-9e26d39d1bc5",
   "metadata": {},
   "outputs": [
    {
     "data": {
      "text/plain": [
       "total_bill    1\n",
       "size          1\n",
       "smoker        1\n",
       "dinner        2\n",
       "dtype: int64"
      ]
     },
     "execution_count": 30,
     "metadata": {},
     "output_type": "execute_result"
    }
   ],
   "source": [
    "pd.Series(rfe.ranking_, index=X_train.columns)\n",
    "\n",
    "#which features are selected and what their individual ranking are\n"
   ]
  },
  {
   "cell_type": "markdown",
   "id": "8627ebe6-f801-4d97-b901-ce9c686b0d15",
   "metadata": {},
   "source": [
    "<div style=\"border: 1px solid black; border-radius: 3px; background: palegreen; padding: .5em 1em;\">\n",
    "    <p style=\"font-size: 1.3em; font-weight: bold\">Mini Exercise</p>\n",
    "    <ol>\n",
    "        <li>Use <code>RFE</code> and <code>LinearRegression</code> to find the top 3 features that predict fertility in the swiss data set.</li>\n",
    "        <li>Are the results different than what select k best gave you?</li>\n",
    "    </ol>\n",
    "</div>"
   ]
  },
  {
   "cell_type": "code",
   "execution_count": 31,
   "id": "ebd8605c",
   "metadata": {},
   "outputs": [],
   "source": [
    "swiss_data = pydataset.data('swiss')"
   ]
  },
  {
   "cell_type": "code",
   "execution_count": 32,
   "id": "5f38a413",
   "metadata": {},
   "outputs": [],
   "source": [
    "def split_data(df):\n",
    "    '''\n",
    "    take in a DataFrame and return train, validate, and test DataFrames; stratify on species.\n",
    "    return train, validate, test DataFrames.\n",
    "    '''\n",
    "    \n",
    "    # splits df into train_validate and test using train_test_split() stratifying on species to get an even mix of each species\n",
    "    train_validate, test = train_test_split(df, test_size=.2, random_state=123, stratify=df.species)\n",
    "    \n",
    "    # splits train_validate into train and validate using train_test_split() stratifying on species to get an even mix of each species\n",
    "    train, validate = train_test_split(train_validate, \n",
    "                                       test_size=.3, \n",
    "                                       random_state=123, \n",
    "                                       stratify=train_validate.species)\n",
    "    return train, validate, test"
   ]
  },
  {
   "cell_type": "code",
   "execution_count": 37,
   "id": "bf00e85d",
   "metadata": {},
   "outputs": [],
   "source": [
    "X = swiss_data[['Fertility', 'Agriculture', 'Examination', 'Education', 'Catholic', 'Infant.Mortality']]\n",
    "\n",
    "y = swiss_data.drop(columns='Fertility')\n",
    "\n",
    "X_train, X_test, y_train, y_test = train_test_split(X, y, test_size=.2, random_state=123)\n",
    "scaler = StandardScaler()\n",
    "X_train_scaled = scaler.fit_transform(X_train)\n",
    "X_test_scaled = scaler.transform(X_test)"
   ]
  },
  {
   "cell_type": "code",
   "execution_count": 38,
   "id": "d4263489",
   "metadata": {},
   "outputs": [
    {
     "data": {
      "text/plain": [
       "array([False,  True, False,  True,  True, False])"
      ]
     },
     "execution_count": 38,
     "metadata": {},
     "output_type": "execute_result"
    }
   ],
   "source": [
    "rfe = RFE(estimator=LinearRegression(), n_features_to_select=3)\n",
    "\n",
    "rfe.fit(X_train_scaled, y_train)\n",
    "rfe.get_support()"
   ]
  },
  {
   "cell_type": "code",
   "execution_count": 39,
   "id": "e92d00b4",
   "metadata": {},
   "outputs": [
    {
     "data": {
      "text/plain": [
       "Index(['Agriculture', 'Education', 'Catholic'], dtype='object')"
      ]
     },
     "execution_count": 39,
     "metadata": {},
     "output_type": "execute_result"
    }
   ],
   "source": [
    "X_train.columns[rfe.get_support()]"
   ]
  },
  {
   "cell_type": "code",
   "execution_count": 40,
   "id": "ae079066",
   "metadata": {},
   "outputs": [
    {
     "data": {
      "text/plain": [
       "Fertility           4\n",
       "Agriculture         1\n",
       "Examination         2\n",
       "Education           1\n",
       "Catholic            1\n",
       "Infant.Mortality    3\n",
       "dtype: int64"
      ]
     },
     "execution_count": 40,
     "metadata": {},
     "output_type": "execute_result"
    }
   ],
   "source": [
    "pd.Series(rfe.ranking_, index=X_train.columns)\n",
    "\n",
    "#which features are selected and what their individual ranking are"
   ]
  },
  {
   "cell_type": "code",
   "execution_count": null,
   "id": "e3c1819b",
   "metadata": {},
   "outputs": [],
   "source": [
    "#RFE looks at all of the features and how they interact with one another, more computationally expensive\n"
   ]
  }
 ],
 "metadata": {
  "kernelspec": {
   "display_name": "Python 3",
   "language": "python",
   "name": "python3"
  },
  "language_info": {
   "codemirror_mode": {
    "name": "ipython",
    "version": 3
   },
   "file_extension": ".py",
   "mimetype": "text/x-python",
   "name": "python",
   "nbconvert_exporter": "python",
   "pygments_lexer": "ipython3",
   "version": "3.8.8"
  }
 },
 "nbformat": 4,
 "nbformat_minor": 5
}
